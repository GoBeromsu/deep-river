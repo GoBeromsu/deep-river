{
 "cells": [
  {
   "cell_type": "markdown",
   "metadata": {
    "collapsed": false,
    "pycharm": {
     "name": "#%% md\n"
    }
   },
   "source": [
    "# Example for anomaly detection with LSTM autoencoder architectures\n",
    "\n",
    "There is a multitude of successful architecture. In the following we demonstrate the implementation of 3 possible architecture types.\n",
    "\n",
    "## Models"
   ]
  },
  {
   "cell_type": "code",
   "execution_count": 41,
   "metadata": {
    "collapsed": false,
    "pycharm": {
     "name": "#%%\n"
    }
   },
   "outputs": [],
   "source": [
    "from river import compose, preprocessing, metrics, datasets\n",
    "\n",
    "from river_torch.anomaly import RollingAutoencoder\n",
    "from torch import nn, manual_seed\n",
    "import torch\n",
    "from tqdm import tqdm"
   ]
  },
  {
   "cell_type": "markdown",
   "metadata": {},
   "source": [
    "![](srivastava_ae.png)\n",
    "\n",
    "LSTM Autoencoder Architecture by Srivastava et al. 2016 (https://arxiv.org/abs/1502.04681). Decoding is performed in reverse order to introduce short term dependencies between inputs and outputs. Additional to the encoding, the decoder gets fed the time-shifted original inputs. "
   ]
  },
  {
   "cell_type": "code",
   "execution_count": 33,
   "metadata": {},
   "outputs": [],
   "source": [
    "class LSTMAutoencoderSrivastava(nn.Module):\n",
    "    def __init__(self, n_features, hidden_size=30, n_layers=1, batch_first=False):\n",
    "        super().__init__()\n",
    "        self.n_features = n_features\n",
    "        self.hidden_size = hidden_size\n",
    "        self.n_layers = n_layers\n",
    "        self.batch_first = batch_first\n",
    "        self.time_axis = 1 if batch_first else 0\n",
    "        self.encoder = nn.LSTM(\n",
    "            input_size=n_features,\n",
    "            hidden_size=hidden_size,\n",
    "            num_layers=n_layers,\n",
    "            batch_first=batch_first,\n",
    "        )\n",
    "        self.decoder = nn.LSTM(\n",
    "            input_size=hidden_size,\n",
    "            hidden_size=n_features,\n",
    "            num_layers=n_layers,\n",
    "            batch_first=batch_first,\n",
    "        )\n",
    "\n",
    "    def forward(self, x):\n",
    "        _, (h, _) = self.encoder(x)\n",
    "        h = h[-1].view(1, 1, -1)\n",
    "        x_flipped = torch.flip(x[1:], dims=[self.time_axis])\n",
    "        input = torch.cat((h, x_flipped), dim=self.time_axis)\n",
    "        x_hat, _ = self.decoder(input)\n",
    "        x_hat = torch.flip(x_hat, dims=[self.time_axis])\n",
    "\n",
    "        return x_hat"
   ]
  },
  {
   "cell_type": "markdown",
   "metadata": {},
   "source": [
    "![](cho_ae.png)\n",
    "\n",
    "Architecture inspired by Cho et al. 2014 (https://arxiv.org/abs/1406.1078). Decoding occurs in natural order and the decoder is only provided with the encoding at every timestep."
   ]
  },
  {
   "cell_type": "code",
   "execution_count": 34,
   "metadata": {},
   "outputs": [],
   "source": [
    "class LSTMAutoencoderCho(nn.Module):\n",
    "    def __init__(self, n_features, hidden_size=30, n_layers=1, batch_first=False):\n",
    "        super().__init__()\n",
    "        self.n_features = n_features\n",
    "        self.hidden_size = hidden_size\n",
    "        self.n_layers = n_layers\n",
    "        self.batch_first = batch_first\n",
    "        self.encoder = nn.LSTM(\n",
    "            input_size=n_features,\n",
    "            hidden_size=hidden_size,\n",
    "            num_layers=n_layers,\n",
    "            batch_first=batch_first,\n",
    "        )\n",
    "        self.decoder = nn.LSTM(\n",
    "            input_size=hidden_size,\n",
    "            hidden_size=n_features,\n",
    "            num_layers=n_layers,\n",
    "            batch_first=batch_first,\n",
    "        )\n",
    "\n",
    "    def forward(self, x):\n",
    "        _, (h, _) = self.encoder(x)\n",
    "        target_shape = (\n",
    "            (-1, x.shape[0], -1) if self.batch_first else (x.shape[0], -1, -1)\n",
    "        )\n",
    "        h = h[-1].expand(target_shape)\n",
    "        x_hat, _ = self.decoder(h)\n",
    "        return x_hat"
   ]
  },
  {
   "cell_type": "markdown",
   "metadata": {},
   "source": [
    "![](sutskever_ae.png)\n",
    "\n",
    "LSTM Encoder-Decoder architecture by Sutskever et al. 2014 (https://arxiv.org/abs/1409.3215). The decoder only gets access to its own prediction of the previous timestep. Decoding also takes performed backwards."
   ]
  },
  {
   "cell_type": "code",
   "execution_count": 35,
   "metadata": {},
   "outputs": [],
   "source": [
    "class LSTMDecoder(nn.Module):\n",
    "    def __init__(\n",
    "        self,\n",
    "        input_size,\n",
    "        hidden_size,\n",
    "        sequence_length=None,\n",
    "        predict_backward=True,\n",
    "        num_layers=1,\n",
    "    ):\n",
    "        super().__init__()\n",
    "\n",
    "        self.cell = nn.LSTMCell(input_size, hidden_size)\n",
    "        self.input_size = input_size\n",
    "        self.hidden_size = hidden_size\n",
    "\n",
    "        self.predict_backward = predict_backward\n",
    "        self.sequence_length = sequence_length\n",
    "        self.num_layers = num_layers\n",
    "        self.lstm = (\n",
    "            None\n",
    "            if num_layers <= 1\n",
    "            else nn.LSTM(\n",
    "                input_size=hidden_size,\n",
    "                hidden_size=hidden_size,\n",
    "                num_layers=num_layers - 1,\n",
    "            )\n",
    "        )\n",
    "        self.linear = (\n",
    "            None if input_size == hidden_size else nn.Linear(hidden_size, input_size)\n",
    "        )\n",
    "\n",
    "    def forward(self, h, sequence_length=None):\n",
    "        \"\"\"Computes the forward pass.\n",
    "\n",
    "        Parameters\n",
    "        ----------\n",
    "        x:\n",
    "            Input of shape (batch_size, input_size)\n",
    "\n",
    "        Returns\n",
    "        -------\n",
    "        Tuple[torch.Tensor, Tuple[torch.Tensor, torch.Tensor]]\n",
    "            Decoder outputs (output, (h, c)) where output has the shape (sequence_length, batch_size, input_size).\n",
    "        \"\"\"\n",
    "\n",
    "        if sequence_length is None:\n",
    "            sequence_length = self.sequence_length\n",
    "        x_hat = torch.empty(sequence_length, h.shape[0], self.hidden_size)\n",
    "        for t in range(sequence_length):\n",
    "            if t == 0:\n",
    "                h, c = self.cell(h)\n",
    "            else:\n",
    "                input = h if self.linear is None else self.linear(h)\n",
    "                h, c = self.cell(input, (h, c))\n",
    "            t_predicted = -t if self.predict_backward else t\n",
    "            x_hat[t_predicted] = h\n",
    "\n",
    "        if self.lstm is not None:\n",
    "            x_hat = self.lstm(x_hat)\n",
    "\n",
    "        return x_hat, (h, c)\n",
    "\n",
    "\n",
    "class LSTMAutoencoderSutskever(nn.Module):\n",
    "    def __init__(self, n_features, hidden_size=30, n_layers=1):\n",
    "        super().__init__()\n",
    "        self.n_features = n_features\n",
    "        self.hidden_size = hidden_size\n",
    "        self.n_layers = n_layers\n",
    "        self.encoder = nn.LSTM(\n",
    "            input_size=n_features, hidden_size=hidden_size, num_layers=n_layers\n",
    "        )\n",
    "        self.decoder = LSTMDecoder(\n",
    "            input_size=hidden_size, hidden_size=n_features, predict_backward=True\n",
    "        )\n",
    "\n",
    "    def forward(self, x):\n",
    "        _, (h, _) = self.encoder(x)\n",
    "        x_hat, _ = self.decoder(h[-1], x.shape[0])\n",
    "        return x_hat"
   ]
  },
  {
   "cell_type": "markdown",
   "metadata": {},
   "source": [
    "## Testing\n",
    "\n",
    "The models can be tested with the code in the following cells. Since River currently does not feature any anomaly detection datasets with temporal dependencies, the results should be expected to be somewhat inaccurate.  "
   ]
  },
  {
   "cell_type": "code",
   "execution_count": 43,
   "metadata": {
    "collapsed": false,
    "pycharm": {
     "name": "#%%\n"
    }
   },
   "outputs": [],
   "source": [
    "_ = manual_seed(42)\n",
    "dataset = datasets.CreditCard().take(5000)\n",
    "metric = metrics.ROCAUC(n_thresholds=50)\n",
    "\n",
    "module = LSTMAutoencoderSrivastava # Set this variable to your architecture of choice\n",
    "ae = RollingAutoencoder(module=module, lr=0.005)\n",
    "scaler = preprocessing.StandardScaler()\n"
   ]
  },
  {
   "cell_type": "code",
   "execution_count": 44,
   "metadata": {
    "collapsed": false,
    "pycharm": {
     "name": "#%%\n"
    }
   },
   "outputs": [
    {
     "name": "stderr",
     "output_type": "stream",
     "text": [
      "100%|██████████| 5000/5000 [00:33<00:00, 148.91it/s]"
     ]
    },
    {
     "name": "stdout",
     "output_type": "stream",
     "text": [
      "ROCAUC: 0.5856\n"
     ]
    },
    {
     "name": "stderr",
     "output_type": "stream",
     "text": [
      "\n"
     ]
    }
   ],
   "source": [
    "for x, y in tqdm(list(dataset)):\n",
    "    scaler.learn_one(x)\n",
    "    x = scaler.transform_one(x)\n",
    "    score = ae.score_one(x)\n",
    "    metric.update(y_true=y, y_pred=score)\n",
    "    ae.learn_one(x=x, y=None)\n",
    "print(f\"ROCAUC: {metric.get():.4f}\")\n"
   ]
  },
  {
   "cell_type": "code",
   "execution_count": null,
   "metadata": {},
   "outputs": [],
   "source": []
  }
 ],
 "metadata": {
  "kernelspec": {
   "display_name": "Python 3.10.4 ('deepriver')",
   "language": "python",
   "name": "python3"
  },
  "language_info": {
   "codemirror_mode": {
    "name": "ipython",
    "version": 3
   },
   "file_extension": ".py",
   "mimetype": "text/x-python",
   "name": "python",
   "nbconvert_exporter": "python",
   "pygments_lexer": "ipython3",
   "version": "3.10.4"
  },
  "vscode": {
   "interpreter": {
    "hash": "588c5aed37ac83ab820db8800694f2ee474f3b87874329a77c5b9c85c1eac9fa"
   }
  }
 },
 "nbformat": 4,
 "nbformat_minor": 0
}
