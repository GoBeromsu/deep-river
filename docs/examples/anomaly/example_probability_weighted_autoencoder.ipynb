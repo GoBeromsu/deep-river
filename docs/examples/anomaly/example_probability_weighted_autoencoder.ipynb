{
 "cells": [
  {
   "cell_type": "markdown",
   "metadata": {
    "collapsed": false
   },
   "source": [
    "# Probability weighted Autoencoder"
   ]
  },
  {
   "cell_type": "code",
   "execution_count": 1,
   "metadata": {},
   "outputs": [],
   "source": [
    "from river import compose, preprocessing, metrics, datasets\n",
    "from deep_river.anomaly import ProbabilityWeightedAutoencoder\n",
    "from torch import nn, manual_seed"
   ]
  },
  {
   "cell_type": "code",
   "execution_count": 2,
   "metadata": {},
   "outputs": [
    {
     "data": {
      "text/plain": "Pipeline (\n  MinMaxScaler (),\n  ProbabilityWeightedAutoencoder (\n    module=None\n    loss_fn=\"mse_loss\"\n    optimizer_fn=<class 'torch.optim.sgd.SGD'>\n    lr=0.01\n    device=\"cpu\"\n    seed=42\n    skip_threshold=0.9\n    window_size=250\n  )\n)",
      "text/html": "<div><div class=\"river-component river-pipeline\"><details class=\"river-component river-estimator\"><summary class=\"river-summary\"><pre class=\"river-estimator-name\">MinMaxScaler</pre></summary><code class=\"river-estimator-params\">()\n\n</code></details><details class=\"river-component river-estimator\"><summary class=\"river-summary\"><pre class=\"river-estimator-name\">ProbabilityWeightedAutoencoder</pre></summary><code class=\"river-estimator-params\">(\n  module=None\n  loss_fn=\"mse_loss\"\n  optimizer_fn=&lt;class 'torch.optim.sgd.SGD'&gt;\n  lr=0.01\n  device=\"cpu\"\n  seed=42\n  skip_threshold=0.9\n  window_size=250\n)\n\n</code></details></div><style scoped>\n.river-estimator {\n    padding: 1em;\n    border-style: solid;\n    background: white;\n}\n\n.river-pipeline {\n    display: flex;\n    flex-direction: column;\n    align-items: center;\n    background: linear-gradient(#000, #000) no-repeat center / 3px 100%;\n}\n\n.river-union {\n    display: flex;\n    flex-direction: row;\n    align-items: center;\n    justify-content: center;\n    padding: 1em;\n    border-style: solid;\n    background: white;\n}\n\n.river-wrapper {\n    display: flex;\n    flex-direction: column;\n    align-items: center;\n    justify-content: center;\n    padding: 1em;\n    border-style: solid;\n    background: white;\n}\n\n.river-wrapper > .river-estimator {\n    margin-top: 1em;\n}\n\n/* Vertical spacing between steps */\n\n.river-component + .river-component {\n    margin-top: 2em;\n}\n\n.river-union > .river-estimator {\n    margin-top: 0;\n}\n\n.river-union > .pipeline {\n    margin-top: 0;\n}\n\n/* Spacing within a union of estimators */\n\n.river-union > .river-component + .river-component {\n    margin-left: 1em;\n}\n\n/* Typography */\n\n.river-estimator-params {\n    display: block;\n    white-space: pre-wrap;\n    font-size: 120%;\n    margin-bottom: -1em;\n}\n\n.river-estimator > .river-estimator-params,\n.river-wrapper > .river-details > river-estimator-params {\n    background-color: white !important;\n}\n\n.river-estimator-name {\n    display: inline;\n    margin: 0;\n    font-size: 130%;\n}\n\n/* Toggle */\n\n.river-summary {\n    display: flex;\n    align-items:center;\n    cursor: pointer;\n}\n\n.river-summary > div {\n    width: 100%;\n}\n</style></div>"
     },
     "execution_count": 2,
     "metadata": {},
     "output_type": "execute_result"
    }
   ],
   "source": [
    "_ = manual_seed(42)\n",
    "dataset = datasets.CreditCard().take(5000)\n",
    "metric = metrics.ROCAUC(n_thresholds=50)\n",
    "\n",
    "class MyAutoEncoder(nn.Module):\n",
    "    def __init__(self, n_features, latent_dim=3):\n",
    "        super(MyAutoEncoder, self).__init__()\n",
    "        self.linear1 = nn.Linear(n_features, latent_dim)\n",
    "        self.nonlin = nn.LeakyReLU()\n",
    "        self.linear2 = nn.Linear(latent_dim, n_features)\n",
    "        self.sigmoid = nn.Sigmoid()\n",
    "\n",
    "    def forward(self, X, **kwargs):\n",
    "        X = self.linear1(X)\n",
    "        X = self.nonlin(X)\n",
    "        X = self.linear2(X)\n",
    "        return self.sigmoid(X)\n",
    "\n",
    "model_pipeline = compose.Pipeline(\n",
    "    preprocessing.MinMaxScaler(),\n",
    "    ProbabilityWeightedAutoencoder(module=MyAutoEncoder, lr=0.01)\n",
    ")\n",
    "model_pipeline"
   ]
  },
  {
   "cell_type": "code",
   "execution_count": 3,
   "metadata": {},
   "outputs": [
    {
     "name": "stdout",
     "output_type": "stream",
     "text": [
      "ROCAUC: 0.7403\n"
     ]
    }
   ],
   "source": [
    "for x,y in dataset:\n",
    "    score = model_pipeline.score_one(x)\n",
    "    metric.update(y_true=y, y_pred=score)\n",
    "    model_pipeline.learn_one(x=x)\n",
    "print(f'ROCAUC: {metric.get():.4f}')"
   ]
  }
 ],
 "metadata": {
  "kernelspec": {
   "display_name": "Python 3.10.4 ('deepriver')",
   "language": "python",
   "name": "python3"
  },
  "language_info": {
   "codemirror_mode": {
    "name": "ipython",
    "version": 2
   },
   "file_extension": ".py",
   "mimetype": "text/x-python",
   "name": "python",
   "nbconvert_exporter": "python",
   "pygments_lexer": "ipython2",
   "version": "3.10.4"
  },
  "vscode": {
   "interpreter": {
    "hash": "588c5aed37ac83ab820db8800694f2ee474f3b87874329a77c5b9c85c1eac9fa"
   }
  }
 },
 "nbformat": 4,
 "nbformat_minor": 0
}
