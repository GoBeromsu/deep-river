{
 "cells": [
  {
   "cell_type": "markdown",
   "source": [
    "# Probability weighted Autoencoder"
   ],
   "metadata": {
    "collapsed": false,
    "pycharm": {
     "name": "#%% md\n"
    }
   }
  },
  {
   "cell_type": "code",
   "execution_count": null,
   "outputs": [],
   "source": [
    "from river.compose import Pipeline\n",
    "from river.preprocessing import MinMaxScaler\n",
    "\n",
    "from river_torch.anomaly import ProbabilityWeightedAutoencoder\n",
    "from river import metrics\n",
    "from river.datasets import CreditCard\n",
    "from torch import nn, manual_seed\n",
    "import math"
   ],
   "metadata": {
    "collapsed": false,
    "pycharm": {
     "name": "#%%\n"
    }
   }
  },
  {
   "cell_type": "code",
   "execution_count": null,
   "outputs": [],
   "source": [
    "_ = manual_seed(42)\n",
    "dataset = CreditCard().take(5000)\n",
    "metric = metrics.ROCAUC(n_thresholds=50)\n",
    "\n",
    "def get_fc_ae(n_features):\n",
    "    latent_dim = math.ceil(n_features / 2)\n",
    "    return nn.Sequential(\n",
    "        nn.Linear(n_features, latent_dim),\n",
    "        nn.LeakyReLU(),\n",
    "        nn.Linear(latent_dim, n_features),\n",
    "    )\n",
    "\n",
    "ae = ProbabilityWeightedAutoencoder(build_fn=get_fc_ae, lr=0.01)\n",
    "scaler = MinMaxScaler()\n",
    "model = Pipeline(scaler, ae)\n",
    "\n",
    "for x,y in dataset:\n",
    "    score = model.score_one(x)\n",
    "    metric.update(y_true=y, y_pred=score)\n",
    "    model.learn_one(x=x)\n",
    "print(f'ROCAUC: {metric.get():.4f}')"
   ],
   "metadata": {
    "collapsed": false,
    "pycharm": {
     "name": "#%%\n"
    }
   }
  }
 ],
 "metadata": {
  "kernelspec": {
   "display_name": "Python 3",
   "language": "python",
   "name": "python3"
  },
  "language_info": {
   "codemirror_mode": {
    "name": "ipython",
    "version": 2
   },
   "file_extension": ".py",
   "mimetype": "text/x-python",
   "name": "python",
   "nbconvert_exporter": "python",
   "pygments_lexer": "ipython2",
   "version": "2.7.6"
  }
 },
 "nbformat": 4,
 "nbformat_minor": 0
}