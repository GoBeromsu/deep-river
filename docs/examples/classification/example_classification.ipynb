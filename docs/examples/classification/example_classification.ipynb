{
 "cells": [
  {
   "cell_type": "markdown",
   "source": [
    "# Simple Classification Model"
   ],
   "metadata": {
    "collapsed": false,
    "pycharm": {
     "name": "#%% md\n"
    }
   }
  },
  {
   "cell_type": "code",
   "execution_count": null,
   "outputs": [],
   "source": [
    "from river import metrics\n",
    "from river.datasets import Phishing\n",
    "from river_torch.classification import Classifier\n",
    "import torch"
   ],
   "metadata": {
    "collapsed": false,
    "pycharm": {
     "name": "#%%\n"
    }
   }
  },
  {
   "cell_type": "code",
   "execution_count": null,
   "outputs": [],
   "source": [
    "n_samples = 10000\n",
    "dataset = Phishing()\n",
    "\n",
    "metric = metrics.Accuracy()\n",
    "\n",
    "def build_fn(n_features, n_classes=1):\n",
    "    net = torch.nn.Sequential(\n",
    "        torch.nn.Linear(n_features, n_classes),\n",
    "        torch.nn.Sigmoid()\n",
    "    )\n",
    "    return net\n",
    "\n",
    "optimizer_fn = torch.optim.SGD\n",
    "model = Classifier(build_fn=build_fn,loss_fn=\"binary_cross_entropy\",optimizer_fn=optimizer_fn)"
   ],
   "metadata": {
    "collapsed": false,
    "pycharm": {
     "name": "#%%\n"
    }
   }
  },
  {
   "cell_type": "code",
   "execution_count": null,
   "outputs": [],
   "source": [
    "for x,y in dataset:\n",
    "    y_pred = model.predict_one(x)      # make a prediction\n",
    "    metric = metric.update(y, y_pred)  # update the metric\n",
    "    model = model.learn_one(x, y)    # make the model learn\n",
    "print(f'Accuracy: {metric.get()}')"
   ],
   "metadata": {
    "collapsed": false,
    "pycharm": {
     "name": "#%%\n"
    }
   }
  }
 ],
 "metadata": {
  "kernelspec": {
   "display_name": "Python 3.10.4 ('deepriver')",
   "language": "python",
   "name": "python3"
  },
  "language_info": {
   "codemirror_mode": {
    "name": "ipython",
    "version": 2
   },
   "file_extension": ".py",
   "mimetype": "text/x-python",
   "name": "python",
   "nbconvert_exporter": "python",
   "pygments_lexer": "ipython2",
   "version": "3.10.4"
  },
  "vscode": {
   "interpreter": {
    "hash": "588c5aed37ac83ab820db8800694f2ee474f3b87874329a77c5b9c85c1eac9fa"
   }
  }
 },
 "nbformat": 4,
 "nbformat_minor": 0
}