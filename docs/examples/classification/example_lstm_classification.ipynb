{
 "cells": [
  {
   "cell_type": "markdown",
   "source": [
    "# LSTM Classification Model"
   ],
   "metadata": {
    "collapsed": false,
    "pycharm": {
     "name": "#%% md\n"
    }
   }
  },
  {
   "cell_type": "code",
   "execution_count": 2,
   "outputs": [],
   "source": [
    "from river_torch.classification import RollingClassifier\n",
    "from river import metrics, compose, preprocessing, datasets\n",
    "import torch"
   ],
   "metadata": {
    "collapsed": false,
    "pycharm": {
     "name": "#%%\n"
    }
   }
  },
  {
   "cell_type": "code",
   "execution_count": 3,
   "outputs": [],
   "source": [
    "class MyModule(torch.nn.Module):\n",
    "\n",
    "    def __init__(self, n_features, hidden_size=2):\n",
    "        super().__init__()\n",
    "        self.n_features=n_features\n",
    "        self.hidden_size = hidden_size\n",
    "        self.lstm = torch.nn.LSTM(input_size=n_features, hidden_size=hidden_size, num_layers=1)\n",
    "        self.softmax = torch.nn.Softmax(dim=-1)\n",
    "\n",
    "    def forward(self, X, **kwargs):\n",
    "        output, (hn, cn) = self.lstm(X)  # lstm with input, hidden, and internal state\n",
    "        hn = hn.view(-1, self.hidden_size)\n",
    "        return self.softmax(hn)"
   ],
   "metadata": {
    "collapsed": false,
    "pycharm": {
     "name": "#%%\n"
    }
   }
  },
  {
   "cell_type": "code",
   "execution_count": 4,
   "outputs": [],
   "source": [
    "dataset = datasets.Bikes()\n",
    "metric = metrics.Accuracy()\n",
    "optimizer_fn = torch.optim.SGD\n",
    "\n",
    "model_pipeline = compose.Select('clouds', 'humidity', 'pressure', 'temperature', 'wind')\n",
    "model_pipeline |= preprocessing.StandardScaler()\n",
    "model_pipeline |= RollingClassifier(\n",
    "    module=MyModule,\n",
    "    loss_fn=\"binary_cross_entropy\",\n",
    "    optimizer_fn=torch.optim.SGD,\n",
    "    window_size=20,\n",
    "    lr=1e-2,\n",
    "    append_predict=True,\n",
    ")\n",
    "model_pipeline"
   ],
   "metadata": {
    "collapsed": false,
    "pycharm": {
     "name": "#%%\n"
    }
   }
  },
  {
   "cell_type": "code",
   "execution_count": 5,
   "outputs": [
    {
     "ename": "KeyboardInterrupt",
     "evalue": "",
     "output_type": "error",
     "traceback": [
      "\u001B[1;31m---------------------------------------------------------------------------\u001B[0m",
      "\u001B[1;31mKeyboardInterrupt\u001B[0m                         Traceback (most recent call last)",
      "Input \u001B[1;32mIn [5]\u001B[0m, in \u001B[0;36m<cell line: 1>\u001B[1;34m()\u001B[0m\n\u001B[0;32m      1\u001B[0m \u001B[38;5;28;01mfor\u001B[39;00m x,y \u001B[38;5;129;01min\u001B[39;00m dataset:\n\u001B[1;32m----> 2\u001B[0m     y_pred \u001B[38;5;241m=\u001B[39m \u001B[43mmodel_pipeline\u001B[49m\u001B[38;5;241;43m.\u001B[39;49m\u001B[43mpredict_one\u001B[49m\u001B[43m(\u001B[49m\u001B[43mx\u001B[49m\u001B[43m)\u001B[49m      \u001B[38;5;66;03m# make a prediction\u001B[39;00m\n\u001B[0;32m      3\u001B[0m     metric \u001B[38;5;241m=\u001B[39m metric\u001B[38;5;241m.\u001B[39mupdate(y, y_pred)  \u001B[38;5;66;03m# update the metric\u001B[39;00m\n\u001B[0;32m      4\u001B[0m     model \u001B[38;5;241m=\u001B[39m model_pipeline\u001B[38;5;241m.\u001B[39mlearn_one(x, y)    \u001B[38;5;66;03m# make the model learn\u001B[39;00m\n",
      "File \u001B[1;32m~\\Documents\\environments\\river-torch\\lib\\site-packages\\river\\compose\\pipeline.py:585\u001B[0m, in \u001B[0;36mPipeline.predict_one\u001B[1;34m(self, x, **params)\u001B[0m\n\u001B[0;32m    576\u001B[0m \u001B[38;5;124;03m\"\"\"Call `transform_one` on the first steps and `predict_one` on the last step.\u001B[39;00m\n\u001B[0;32m    577\u001B[0m \n\u001B[0;32m    578\u001B[0m \u001B[38;5;124;03mParameters\u001B[39;00m\n\u001B[1;32m   (...)\u001B[0m\n\u001B[0;32m    582\u001B[0m \n\u001B[0;32m    583\u001B[0m \u001B[38;5;124;03m\"\"\"\u001B[39;00m\n\u001B[0;32m    584\u001B[0m x, last_step \u001B[38;5;241m=\u001B[39m \u001B[38;5;28mself\u001B[39m\u001B[38;5;241m.\u001B[39m_transform_one(x)\n\u001B[1;32m--> 585\u001B[0m \u001B[38;5;28;01mreturn\u001B[39;00m last_step\u001B[38;5;241m.\u001B[39mpredict_one(x, \u001B[38;5;241m*\u001B[39m\u001B[38;5;241m*\u001B[39mparams)\n",
      "File \u001B[1;32m~\\Documents\\environments\\river-torch\\lib\\site-packages\\river\\base\\classifier.py:69\u001B[0m, in \u001B[0;36mClassifier.predict_one\u001B[1;34m(self, x)\u001B[0m\n\u001B[0;32m     54\u001B[0m \u001B[38;5;124;03m\"\"\"Predict the label of a set of features `x`.\u001B[39;00m\n\u001B[0;32m     55\u001B[0m \n\u001B[0;32m     56\u001B[0m \u001B[38;5;124;03mParameters\u001B[39;00m\n\u001B[1;32m   (...)\u001B[0m\n\u001B[0;32m     64\u001B[0m \n\u001B[0;32m     65\u001B[0m \u001B[38;5;124;03m\"\"\"\u001B[39;00m\n\u001B[0;32m     67\u001B[0m \u001B[38;5;66;03m# The following code acts as a default for each classifier, and may be overridden on an\u001B[39;00m\n\u001B[0;32m     68\u001B[0m \u001B[38;5;66;03m# individual basis.\u001B[39;00m\n\u001B[1;32m---> 69\u001B[0m y_pred \u001B[38;5;241m=\u001B[39m \u001B[38;5;28;43mself\u001B[39;49m\u001B[38;5;241;43m.\u001B[39;49m\u001B[43mpredict_proba_one\u001B[49m\u001B[43m(\u001B[49m\u001B[43mx\u001B[49m\u001B[43m)\u001B[49m\n\u001B[0;32m     70\u001B[0m \u001B[38;5;28;01mif\u001B[39;00m y_pred:\n\u001B[0;32m     71\u001B[0m     \u001B[38;5;28;01mreturn\u001B[39;00m \u001B[38;5;28mmax\u001B[39m(y_pred, key\u001B[38;5;241m=\u001B[39my_pred\u001B[38;5;241m.\u001B[39mget)\n",
      "File \u001B[1;32m~\\Documents\\projects\\IncrementalLearning\\river-torch\\river_torch\\classification\\rolling_classifier.py:186\u001B[0m, in \u001B[0;36mRollingClassifier.predict_proba_one\u001B[1;34m(self, x)\u001B[0m\n\u001B[0;32m    184\u001B[0m \u001B[38;5;28;01mif\u001B[39;00m x \u001B[38;5;129;01mis\u001B[39;00m \u001B[38;5;129;01mnot\u001B[39;00m \u001B[38;5;28;01mNone\u001B[39;00m:\n\u001B[0;32m    185\u001B[0m     \u001B[38;5;28mself\u001B[39m\u001B[38;5;241m.\u001B[39mmodule\u001B[38;5;241m.\u001B[39meval()\n\u001B[1;32m--> 186\u001B[0m     y_pred \u001B[38;5;241m=\u001B[39m \u001B[38;5;28;43mself\u001B[39;49m\u001B[38;5;241;43m.\u001B[39;49m\u001B[43mmodule\u001B[49m\u001B[43m(\u001B[49m\u001B[43mx\u001B[49m\u001B[43m)\u001B[49m\n\u001B[0;32m    187\u001B[0m     proba \u001B[38;5;241m=\u001B[39m output2proba(y_pred, \u001B[38;5;28mself\u001B[39m\u001B[38;5;241m.\u001B[39mobserved_classes)\n\u001B[0;32m    188\u001B[0m \u001B[38;5;28;01melse\u001B[39;00m:\n",
      "File \u001B[1;32m~\\Documents\\environments\\river-torch\\lib\\site-packages\\torch\\nn\\modules\\module.py:1130\u001B[0m, in \u001B[0;36mModule._call_impl\u001B[1;34m(self, *input, **kwargs)\u001B[0m\n\u001B[0;32m   1126\u001B[0m \u001B[38;5;66;03m# If we don't have any hooks, we want to skip the rest of the logic in\u001B[39;00m\n\u001B[0;32m   1127\u001B[0m \u001B[38;5;66;03m# this function, and just call forward.\u001B[39;00m\n\u001B[0;32m   1128\u001B[0m \u001B[38;5;28;01mif\u001B[39;00m \u001B[38;5;129;01mnot\u001B[39;00m (\u001B[38;5;28mself\u001B[39m\u001B[38;5;241m.\u001B[39m_backward_hooks \u001B[38;5;129;01mor\u001B[39;00m \u001B[38;5;28mself\u001B[39m\u001B[38;5;241m.\u001B[39m_forward_hooks \u001B[38;5;129;01mor\u001B[39;00m \u001B[38;5;28mself\u001B[39m\u001B[38;5;241m.\u001B[39m_forward_pre_hooks \u001B[38;5;129;01mor\u001B[39;00m _global_backward_hooks\n\u001B[0;32m   1129\u001B[0m         \u001B[38;5;129;01mor\u001B[39;00m _global_forward_hooks \u001B[38;5;129;01mor\u001B[39;00m _global_forward_pre_hooks):\n\u001B[1;32m-> 1130\u001B[0m     \u001B[38;5;28;01mreturn\u001B[39;00m forward_call(\u001B[38;5;241m*\u001B[39m\u001B[38;5;28minput\u001B[39m, \u001B[38;5;241m*\u001B[39m\u001B[38;5;241m*\u001B[39mkwargs)\n\u001B[0;32m   1131\u001B[0m \u001B[38;5;66;03m# Do not call functions when jit is used\u001B[39;00m\n\u001B[0;32m   1132\u001B[0m full_backward_hooks, non_full_backward_hooks \u001B[38;5;241m=\u001B[39m [], []\n",
      "Input \u001B[1;32mIn [3]\u001B[0m, in \u001B[0;36mMyModule.forward\u001B[1;34m(self, X, **kwargs)\u001B[0m\n\u001B[0;32m     10\u001B[0m \u001B[38;5;28;01mdef\u001B[39;00m \u001B[38;5;21mforward\u001B[39m(\u001B[38;5;28mself\u001B[39m, X, \u001B[38;5;241m*\u001B[39m\u001B[38;5;241m*\u001B[39mkwargs):\n\u001B[1;32m---> 11\u001B[0m     output, (hn, cn) \u001B[38;5;241m=\u001B[39m \u001B[38;5;28;43mself\u001B[39;49m\u001B[38;5;241;43m.\u001B[39;49m\u001B[43mlstm\u001B[49m\u001B[43m(\u001B[49m\u001B[43mX\u001B[49m\u001B[43m)\u001B[49m  \u001B[38;5;66;03m# lstm with input, hidden, and internal state\u001B[39;00m\n\u001B[0;32m     12\u001B[0m     hn \u001B[38;5;241m=\u001B[39m hn\u001B[38;5;241m.\u001B[39mview(\u001B[38;5;241m-\u001B[39m\u001B[38;5;241m1\u001B[39m, \u001B[38;5;28mself\u001B[39m\u001B[38;5;241m.\u001B[39mhidden_size)\n\u001B[0;32m     13\u001B[0m     \u001B[38;5;28;01mreturn\u001B[39;00m \u001B[38;5;28mself\u001B[39m\u001B[38;5;241m.\u001B[39msoftmax(hn)\n",
      "File \u001B[1;32m~\\Documents\\environments\\river-torch\\lib\\site-packages\\torch\\nn\\modules\\module.py:1130\u001B[0m, in \u001B[0;36mModule._call_impl\u001B[1;34m(self, *input, **kwargs)\u001B[0m\n\u001B[0;32m   1126\u001B[0m \u001B[38;5;66;03m# If we don't have any hooks, we want to skip the rest of the logic in\u001B[39;00m\n\u001B[0;32m   1127\u001B[0m \u001B[38;5;66;03m# this function, and just call forward.\u001B[39;00m\n\u001B[0;32m   1128\u001B[0m \u001B[38;5;28;01mif\u001B[39;00m \u001B[38;5;129;01mnot\u001B[39;00m (\u001B[38;5;28mself\u001B[39m\u001B[38;5;241m.\u001B[39m_backward_hooks \u001B[38;5;129;01mor\u001B[39;00m \u001B[38;5;28mself\u001B[39m\u001B[38;5;241m.\u001B[39m_forward_hooks \u001B[38;5;129;01mor\u001B[39;00m \u001B[38;5;28mself\u001B[39m\u001B[38;5;241m.\u001B[39m_forward_pre_hooks \u001B[38;5;129;01mor\u001B[39;00m _global_backward_hooks\n\u001B[0;32m   1129\u001B[0m         \u001B[38;5;129;01mor\u001B[39;00m _global_forward_hooks \u001B[38;5;129;01mor\u001B[39;00m _global_forward_pre_hooks):\n\u001B[1;32m-> 1130\u001B[0m     \u001B[38;5;28;01mreturn\u001B[39;00m forward_call(\u001B[38;5;241m*\u001B[39m\u001B[38;5;28minput\u001B[39m, \u001B[38;5;241m*\u001B[39m\u001B[38;5;241m*\u001B[39mkwargs)\n\u001B[0;32m   1131\u001B[0m \u001B[38;5;66;03m# Do not call functions when jit is used\u001B[39;00m\n\u001B[0;32m   1132\u001B[0m full_backward_hooks, non_full_backward_hooks \u001B[38;5;241m=\u001B[39m [], []\n",
      "File \u001B[1;32m~\\Documents\\environments\\river-torch\\lib\\site-packages\\torch\\nn\\modules\\rnn.py:782\u001B[0m, in \u001B[0;36mLSTM.forward\u001B[1;34m(self, input, hx)\u001B[0m\n\u001B[0;32m    780\u001B[0m \u001B[38;5;28;01melse\u001B[39;00m:\n\u001B[0;32m    781\u001B[0m     \u001B[38;5;28;01mif\u001B[39;00m \u001B[38;5;129;01mnot\u001B[39;00m is_batched:\n\u001B[1;32m--> 782\u001B[0m         output \u001B[38;5;241m=\u001B[39m \u001B[43moutput\u001B[49m\u001B[38;5;241;43m.\u001B[39;49m\u001B[43msqueeze\u001B[49m\u001B[43m(\u001B[49m\u001B[43mbatch_dim\u001B[49m\u001B[43m)\u001B[49m\n\u001B[0;32m    783\u001B[0m         hidden \u001B[38;5;241m=\u001B[39m (hidden[\u001B[38;5;241m0\u001B[39m]\u001B[38;5;241m.\u001B[39msqueeze(\u001B[38;5;241m1\u001B[39m), hidden[\u001B[38;5;241m1\u001B[39m]\u001B[38;5;241m.\u001B[39msqueeze(\u001B[38;5;241m1\u001B[39m))\n\u001B[0;32m    784\u001B[0m     \u001B[38;5;28;01mreturn\u001B[39;00m output, \u001B[38;5;28mself\u001B[39m\u001B[38;5;241m.\u001B[39mpermute_hidden(hidden, unsorted_indices)\n",
      "\u001B[1;31mKeyboardInterrupt\u001B[0m: "
     ]
    }
   ],
   "source": [
    "for x,y in dataset:\n",
    "    y_pred = model_pipeline.predict_one(x)      # make a prediction\n",
    "    metric = metric.update(y, y_pred)  # update the metric\n",
    "    model = model_pipeline.learn_one(x, y)    # make the model learn\n",
    "print(f'Accuracy: {metric.get()}')"
   ],
   "metadata": {
    "collapsed": false,
    "pycharm": {
     "name": "#%%\n"
    }
   }
  }
 ],
 "metadata": {
  "kernelspec": {
   "display_name": "Python 3",
   "language": "python",
   "name": "python3"
  },
  "language_info": {
   "codemirror_mode": {
    "name": "ipython",
    "version": 2
   },
   "file_extension": ".py",
   "mimetype": "text/x-python",
   "name": "python",
   "nbconvert_exporter": "python",
   "pygments_lexer": "ipython2",
   "version": "2.7.6"
  }
 },
 "nbformat": 4,
 "nbformat_minor": 0
}