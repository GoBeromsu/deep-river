{
 "cells": [
  {
   "cell_type": "markdown",
   "source": [
    "# Mini Batches\n",
    "Iterate over a data stream in mini batches"
   ],
   "metadata": {
    "collapsed": false,
    "pycharm": {
     "name": "#%% md\n"
    }
   }
  },
  {
   "cell_type": "code",
   "execution_count": 1,
   "outputs": [],
   "source": [
    "import pandas as pd\n",
    "from river import metrics\n",
    "from river.datasets import Phishing\n",
    "from river_torch.classification import Classifier\n",
    "import torch"
   ],
   "metadata": {
    "collapsed": false,
    "pycharm": {
     "name": "#%%\n"
    }
   }
  },
  {
   "cell_type": "code",
   "execution_count": 2,
   "outputs": [],
   "source": [
    "n_samples = 10000\n",
    "dataset = Phishing()\n",
    "\n",
    "metric = metrics.Accuracy()\n",
    "\n",
    "def build_fn(n_features, n_classes=1):\n",
    "    net = torch.nn.Sequential(\n",
    "        torch.nn.Linear(n_features, n_classes),\n",
    "        torch.nn.Sigmoid()\n",
    "    )\n",
    "    return net\n",
    "\n",
    "optimizer_fn = torch.optim.SGD\n",
    "model = Classifier(build_fn=build_fn,loss_fn=\"binary_cross_entropy\",optimizer_fn=optimizer_fn)"
   ],
   "metadata": {
    "collapsed": false,
    "pycharm": {
     "name": "#%%\n"
    }
   }
  },
  {
   "cell_type": "code",
   "execution_count": 4,
   "outputs": [],
   "source": [
    "from itertools import islice\n",
    "\n",
    "def batcher(iterable, batch_size):\n",
    "    iterator = iter(iterable)\n",
    "    while batch := list(islice(iterator, batch_size)):\n",
    "        yield batch"
   ],
   "metadata": {
    "collapsed": false,
    "pycharm": {
     "name": "#%%\n"
    }
   }
  },
  {
   "cell_type": "code",
   "execution_count": 10,
   "outputs": [
    {
     "name": "stdout",
     "output_type": "stream",
     "text": [
      "[{}, {}, {}, {}, {}]\n"
     ]
    },
    {
     "ename": "TypeError",
     "evalue": "unhashable type: 'dict'",
     "output_type": "error",
     "traceback": [
      "\u001B[1;31m---------------------------------------------------------------------------\u001B[0m",
      "\u001B[1;31mTypeError\u001B[0m                                 Traceback (most recent call last)",
      "Input \u001B[1;32mIn [10]\u001B[0m, in \u001B[0;36m<cell line: 1>\u001B[1;34m()\u001B[0m\n\u001B[0;32m      5\u001B[0m     y_pred \u001B[38;5;241m=\u001B[39m model\u001B[38;5;241m.\u001B[39mpredict_proba_many(x)\n\u001B[0;32m      6\u001B[0m     \u001B[38;5;28mprint\u001B[39m(y_pred)\u001B[38;5;66;03m# make a prediction\u001B[39;00m\n\u001B[1;32m----> 7\u001B[0m     _ \u001B[38;5;241m=\u001B[39m [metric\u001B[38;5;241m.\u001B[39mupdate(y_i, y_pred[idx]) \u001B[38;5;28;01mfor\u001B[39;00m idx, y_i \u001B[38;5;129;01min\u001B[39;00m \u001B[38;5;28menumerate\u001B[39m(y)]\u001B[38;5;66;03m# update the metric\u001B[39;00m\n\u001B[0;32m      8\u001B[0m     model \u001B[38;5;241m=\u001B[39m model\u001B[38;5;241m.\u001B[39mlearn_many(x, y)    \u001B[38;5;66;03m# make the model learn\u001B[39;00m\n\u001B[0;32m      9\u001B[0m \u001B[38;5;28mprint\u001B[39m(\u001B[38;5;124mf\u001B[39m\u001B[38;5;124m'\u001B[39m\u001B[38;5;124mAccuracy: \u001B[39m\u001B[38;5;132;01m{\u001B[39;00mmetric\u001B[38;5;241m.\u001B[39mget()\u001B[38;5;132;01m}\u001B[39;00m\u001B[38;5;124m'\u001B[39m)\n",
      "Input \u001B[1;32mIn [10]\u001B[0m, in \u001B[0;36m<listcomp>\u001B[1;34m(.0)\u001B[0m\n\u001B[0;32m      5\u001B[0m     y_pred \u001B[38;5;241m=\u001B[39m model\u001B[38;5;241m.\u001B[39mpredict_proba_many(x)\n\u001B[0;32m      6\u001B[0m     \u001B[38;5;28mprint\u001B[39m(y_pred)\u001B[38;5;66;03m# make a prediction\u001B[39;00m\n\u001B[1;32m----> 7\u001B[0m     _ \u001B[38;5;241m=\u001B[39m [\u001B[43mmetric\u001B[49m\u001B[38;5;241;43m.\u001B[39;49m\u001B[43mupdate\u001B[49m\u001B[43m(\u001B[49m\u001B[43my_i\u001B[49m\u001B[43m,\u001B[49m\u001B[43m \u001B[49m\u001B[43my_pred\u001B[49m\u001B[43m[\u001B[49m\u001B[43midx\u001B[49m\u001B[43m]\u001B[49m\u001B[43m)\u001B[49m \u001B[38;5;28;01mfor\u001B[39;00m idx, y_i \u001B[38;5;129;01min\u001B[39;00m \u001B[38;5;28menumerate\u001B[39m(y)]\u001B[38;5;66;03m# update the metric\u001B[39;00m\n\u001B[0;32m      8\u001B[0m     model \u001B[38;5;241m=\u001B[39m model\u001B[38;5;241m.\u001B[39mlearn_many(x, y)    \u001B[38;5;66;03m# make the model learn\u001B[39;00m\n\u001B[0;32m      9\u001B[0m \u001B[38;5;28mprint\u001B[39m(\u001B[38;5;124mf\u001B[39m\u001B[38;5;124m'\u001B[39m\u001B[38;5;124mAccuracy: \u001B[39m\u001B[38;5;132;01m{\u001B[39;00mmetric\u001B[38;5;241m.\u001B[39mget()\u001B[38;5;132;01m}\u001B[39;00m\u001B[38;5;124m'\u001B[39m)\n",
      "File \u001B[1;32m~\\Documents\\environments\\river-torch\\lib\\site-packages\\river\\metrics\\base.py:83\u001B[0m, in \u001B[0;36mClassificationMetric.update\u001B[1;34m(self, y_true, y_pred, sample_weight)\u001B[0m\n\u001B[0;32m     82\u001B[0m \u001B[38;5;28;01mdef\u001B[39;00m \u001B[38;5;21mupdate\u001B[39m(\u001B[38;5;28mself\u001B[39m, y_true, y_pred, sample_weight\u001B[38;5;241m=\u001B[39m\u001B[38;5;241m1.0\u001B[39m):\n\u001B[1;32m---> 83\u001B[0m     \u001B[38;5;28;43mself\u001B[39;49m\u001B[38;5;241;43m.\u001B[39;49m\u001B[43mcm\u001B[49m\u001B[38;5;241;43m.\u001B[39;49m\u001B[43mupdate\u001B[49m\u001B[43m(\u001B[49m\n\u001B[0;32m     84\u001B[0m \u001B[43m        \u001B[49m\u001B[43my_true\u001B[49m\u001B[43m,\u001B[49m\n\u001B[0;32m     85\u001B[0m \u001B[43m        \u001B[49m\u001B[43my_pred\u001B[49m\u001B[43m,\u001B[49m\n\u001B[0;32m     86\u001B[0m \u001B[43m        \u001B[49m\u001B[43msample_weight\u001B[49m\u001B[38;5;241;43m=\u001B[39;49m\u001B[43msample_weight\u001B[49m\u001B[43m,\u001B[49m\n\u001B[0;32m     87\u001B[0m \u001B[43m    \u001B[49m\u001B[43m)\u001B[49m\n\u001B[0;32m     88\u001B[0m     \u001B[38;5;28;01mreturn\u001B[39;00m \u001B[38;5;28mself\u001B[39m\n",
      "File \u001B[1;32m~\\Documents\\environments\\river-torch\\lib\\site-packages\\river\\metrics\\confusion.py:65\u001B[0m, in \u001B[0;36mConfusionMatrix.update\u001B[1;34m(self, y_true, y_pred, sample_weight)\u001B[0m\n\u001B[0;32m     63\u001B[0m \u001B[38;5;28;01mdef\u001B[39;00m \u001B[38;5;21mupdate\u001B[39m(\u001B[38;5;28mself\u001B[39m, y_true, y_pred, sample_weight\u001B[38;5;241m=\u001B[39m\u001B[38;5;241m1.0\u001B[39m):\n\u001B[0;32m     64\u001B[0m     \u001B[38;5;28mself\u001B[39m\u001B[38;5;241m.\u001B[39mn_samples \u001B[38;5;241m+\u001B[39m\u001B[38;5;241m=\u001B[39m \u001B[38;5;241m1\u001B[39m\n\u001B[1;32m---> 65\u001B[0m     \u001B[38;5;28;43mself\u001B[39;49m\u001B[38;5;241;43m.\u001B[39;49m\u001B[43m_update\u001B[49m\u001B[43m(\u001B[49m\u001B[43my_true\u001B[49m\u001B[43m,\u001B[49m\u001B[43m \u001B[49m\u001B[43my_pred\u001B[49m\u001B[43m,\u001B[49m\u001B[43m \u001B[49m\u001B[43msample_weight\u001B[49m\u001B[43m)\u001B[49m\n\u001B[0;32m     66\u001B[0m     \u001B[38;5;28;01mreturn\u001B[39;00m \u001B[38;5;28mself\u001B[39m\n",
      "File \u001B[1;32m~\\Documents\\environments\\river-torch\\lib\\site-packages\\river\\metrics\\confusion.py:75\u001B[0m, in \u001B[0;36mConfusionMatrix._update\u001B[1;34m(self, y_true, y_pred, sample_weight)\u001B[0m\n\u001B[0;32m     74\u001B[0m \u001B[38;5;28;01mdef\u001B[39;00m \u001B[38;5;21m_update\u001B[39m(\u001B[38;5;28mself\u001B[39m, y_true, y_pred, sample_weight):\n\u001B[1;32m---> 75\u001B[0m     \u001B[38;5;28mself\u001B[39m\u001B[38;5;241m.\u001B[39mdata[y_true][y_pred] \u001B[38;5;241m+\u001B[39m\u001B[38;5;241m=\u001B[39m sample_weight\n\u001B[0;32m     76\u001B[0m     \u001B[38;5;28mself\u001B[39m\u001B[38;5;241m.\u001B[39mtotal_weight \u001B[38;5;241m+\u001B[39m\u001B[38;5;241m=\u001B[39m sample_weight\n\u001B[0;32m     77\u001B[0m     \u001B[38;5;28mself\u001B[39m\u001B[38;5;241m.\u001B[39msum_row[y_true] \u001B[38;5;241m+\u001B[39m\u001B[38;5;241m=\u001B[39m sample_weight\n",
      "\u001B[1;31mTypeError\u001B[0m: unhashable type: 'dict'"
     ]
    }
   ],
   "source": [
    "for batch in batcher(dataset,5):\n",
    "    x,y = zip(*batch)\n",
    "    x = pd.DataFrame(x)\n",
    "    y = list(y)\n",
    "    y_pred = model.predict_proba_many(x)\n",
    "    print(y_pred)# make a prediction\n",
    "    _ = [metric.update(y_i, y_pred[idx]) for idx, y_i in enumerate(y)]# update the metric\n",
    "    model = model.learn_many(x, y)    # make the model learn\n",
    "print(f'Accuracy: {metric.get()}')"
   ],
   "metadata": {
    "collapsed": false,
    "pycharm": {
     "name": "#%%\n"
    }
   }
  },
  {
   "cell_type": "code",
   "execution_count": 7,
   "outputs": [
    {
     "data": {
      "text/plain": "[True, True, True, True, False]"
     },
     "execution_count": 7,
     "metadata": {},
     "output_type": "execute_result"
    }
   ],
   "source": [
    "list(y)"
   ],
   "metadata": {
    "collapsed": false,
    "pycharm": {
     "name": "#%%\n"
    }
   }
  },
  {
   "cell_type": "code",
   "execution_count": null,
   "outputs": [],
   "source": [],
   "metadata": {
    "collapsed": false,
    "pycharm": {
     "name": "#%%\n"
    }
   }
  }
 ],
 "metadata": {
  "kernelspec": {
   "display_name": "Python 3",
   "language": "python",
   "name": "python3"
  },
  "language_info": {
   "codemirror_mode": {
    "name": "ipython",
    "version": 2
   },
   "file_extension": ".py",
   "mimetype": "text/x-python",
   "name": "python",
   "nbconvert_exporter": "python",
   "pygments_lexer": "ipython2",
   "version": "2.7.6"
  }
 },
 "nbformat": 4,
 "nbformat_minor": 0
}