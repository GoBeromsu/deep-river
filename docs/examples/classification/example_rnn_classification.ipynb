{
 "cells": [
  {
   "cell_type": "markdown",
   "metadata": {
    "collapsed": false
   },
   "source": [
    "# RNN Classification Models\n",
    "This example shows the application of RNN models in river-torch with and without usage of an incremental class adaption strategy."
   ]
  },
  {
   "cell_type": "code",
   "execution_count": null,
   "metadata": {},
   "outputs": [],
   "source": [
    "from river_torch.classification import RollingClassifier\n",
    "from river import metrics, compose, preprocessing, datasets\n",
    "import torch\n",
    "from tqdm import tqdm"
   ]
  },
  {
   "cell_type": "markdown",
   "source": [
    "## RNN Model"
   ],
   "metadata": {
    "collapsed": false
   }
  },
  {
   "cell_type": "code",
   "execution_count": null,
   "outputs": [],
   "source": [
    "class RnnModule(torch.nn.Module):\n",
    "\n",
    "    def __init__(self, n_features, hidden_size=1):\n",
    "        super().__init__()\n",
    "        self.n_features=n_features\n",
    "        #self.lstm = torch.nn.LSTM(input_size=n_features, hidden_size=hidden_size, num_layers=1)\n",
    "        self.rnn = torch.nn.RNN(input_size=n_features, hidden_size=hidden_size, num_layers=1)\n",
    "        self.softmax = torch.nn.Softmax(dim=-1)\n",
    "\n",
    "    def forward(self, X, **kwargs):\n",
    "        out, hn  = self.rnn(X)  # lstm with input, hidden, and internal state\n",
    "        hn = hn.view(-1, self.rnn.hidden_size)\n",
    "        return self.softmax(hn)"
   ],
   "metadata": {
    "collapsed": false
   }
  },
  {
   "cell_type": "markdown",
   "source": [
    "### Classification without incremental class adapation strategy"
   ],
   "metadata": {
    "collapsed": false
   }
  },
  {
   "cell_type": "code",
   "execution_count": null,
   "outputs": [],
   "source": [
    "dataset = datasets.Keystroke()\n",
    "metric = metrics.Accuracy()\n",
    "optimizer_fn = torch.optim.SGD\n",
    "\n",
    "model_pipeline = preprocessing.StandardScaler()\n",
    "model_pipeline |= RollingClassifier(\n",
    "    module=RnnModule,\n",
    "    loss_fn=\"binary_cross_entropy\",\n",
    "    optimizer_fn=torch.optim.SGD,\n",
    "    window_size=20,\n",
    "    lr=1e-2,\n",
    "    append_predict=True,\n",
    "    is_class_incremental=False,\n",
    ")\n",
    "model_pipeline"
   ],
   "metadata": {
    "collapsed": false
   }
  },
  {
   "cell_type": "code",
   "execution_count": null,
   "outputs": [],
   "source": [
    "for x,y in tqdm(dataset):\n",
    "    y_pred = model_pipeline.predict_one(x)      # make a prediction\n",
    "    metric = metric.update(y, y_pred)  # update the metric\n",
    "    model = model_pipeline.learn_one(x, y)    # make the model learn\n",
    "print(f'Accuracy: {metric.get():.2f }')"
   ],
   "metadata": {
    "collapsed": false
   }
  },
  {
   "cell_type": "markdown",
   "source": [
    "### Classification with incremental class adaption strategy"
   ],
   "metadata": {
    "collapsed": false
   }
  },
  {
   "cell_type": "code",
   "execution_count": null,
   "outputs": [],
   "source": [
    "dataset = datasets.Keystroke()\n",
    "metric = metrics.Accuracy()\n",
    "optimizer_fn = torch.optim.SGD\n",
    "\n",
    "model_pipeline = preprocessing.StandardScaler()\n",
    "model_pipeline |= RollingClassifier(\n",
    "    module=RnnModule,\n",
    "    loss_fn=\"binary_cross_entropy\",\n",
    "    optimizer_fn=torch.optim.SGD,\n",
    "    window_size=20,\n",
    "    lr=1e-2,\n",
    "    append_predict=True,\n",
    "    is_class_incremental=True,\n",
    ")\n",
    "model_pipeline"
   ],
   "metadata": {
    "collapsed": false
   }
  },
  {
   "cell_type": "code",
   "execution_count": 29,
   "outputs": [
    {
     "name": "stderr",
     "output_type": "stream",
     "text": [
      "20400it [01:13, 279.31it/s]"
     ]
    },
    {
     "name": "stdout",
     "output_type": "stream",
     "text": [
      "Accuracy: 0.09\n"
     ]
    },
    {
     "name": "stderr",
     "output_type": "stream",
     "text": [
      "\n"
     ]
    }
   ],
   "source": [
    "for x,y in tqdm(dataset):\n",
    "    y_pred = model_pipeline.predict_one(x)      # make a prediction\n",
    "    metric = metric.update(y, y_pred)  # update the metric\n",
    "    model = model_pipeline.learn_one(x, y)    # make the model learn\n",
    "print(f'Accuracy: {metric.get():.2f}')"
   ],
   "metadata": {
    "collapsed": false
   }
  },
  {
   "cell_type": "markdown",
   "source": [
    "## LSTM Model"
   ],
   "metadata": {
    "collapsed": false
   }
  },
  {
   "cell_type": "code",
   "execution_count": null,
   "metadata": {},
   "outputs": [],
   "source": [
    "class LstmModule(torch.nn.Module):\n",
    "\n",
    "    def __init__(self, n_features, hidden_size=1):\n",
    "        super().__init__()\n",
    "        self.n_features=n_features\n",
    "        self.lstm = torch.nn.LSTM(input_size=n_features, hidden_size=hidden_size, num_layers=1)\n",
    "        self.softmax = torch.nn.Softmax(dim=-1)\n",
    "\n",
    "    def forward(self, X, **kwargs):\n",
    "        output, (hn, cn) = self.lstm(X)  # lstm with input, hidden, and internal state\n",
    "        hn = hn.view(-1, self.lstm.hidden_size)\n",
    "        return self.softmax(hn)"
   ]
  },
  {
   "cell_type": "markdown",
   "source": [
    "### Classifcation without incremental class adaption strategy"
   ],
   "metadata": {
    "collapsed": false
   }
  },
  {
   "cell_type": "code",
   "execution_count": null,
   "metadata": {},
   "outputs": [],
   "source": [
    "dataset = datasets.Keystroke()\n",
    "metric = metrics.Accuracy()\n",
    "optimizer_fn = torch.optim.SGD\n",
    "\n",
    "model_pipeline = preprocessing.StandardScaler()\n",
    "model_pipeline |= RollingClassifier(\n",
    "    module=LstmModule,\n",
    "    loss_fn=\"binary_cross_entropy\",\n",
    "    optimizer_fn=torch.optim.SGD,\n",
    "    window_size=20,\n",
    "    lr=1e-2,\n",
    "    append_predict=True,\n",
    ")\n",
    "model_pipeline"
   ]
  },
  {
   "cell_type": "code",
   "execution_count": null,
   "metadata": {},
   "outputs": [],
   "source": [
    "for x,y in tqdm(dataset):\n",
    "    y_pred = model_pipeline.predict_one(x)      # make a prediction\n",
    "    metric = metric.update(y, y_pred)  # update the metric\n",
    "    model = model_pipeline.learn_one(x, y)    # make the model learn\n",
    "print(f'Accuracy: {metric.get()}')"
   ]
  },
  {
   "cell_type": "markdown",
   "source": [
    "### Classifcation with incremental class adaption strategy"
   ],
   "metadata": {
    "collapsed": false
   }
  },
  {
   "cell_type": "code",
   "execution_count": null,
   "outputs": [],
   "source": [
    "dataset = datasets.Keystroke()\n",
    "metric = metrics.Accuracy()\n",
    "optimizer_fn = torch.optim.SGD\n",
    "\n",
    "model_pipeline = preprocessing.StandardScaler()\n",
    "model_pipeline |= RollingClassifier(\n",
    "    module=LstmModule,\n",
    "    loss_fn=\"binary_cross_entropy\",\n",
    "    optimizer_fn=torch.optim.SGD,\n",
    "    window_size=20,\n",
    "    lr=1e-2,\n",
    "    append_predict=True,\n",
    "    is_class_incremental=True\n",
    ")\n",
    "model_pipeline"
   ],
   "metadata": {
    "collapsed": false
   }
  },
  {
   "cell_type": "code",
   "execution_count": 28,
   "outputs": [
    {
     "name": "stderr",
     "output_type": "stream",
     "text": [
      "20400it [01:10, 291.30it/s]"
     ]
    },
    {
     "name": "stdout",
     "output_type": "stream",
     "text": [
      "Accuracy: 0.14926470588235294\n"
     ]
    },
    {
     "name": "stderr",
     "output_type": "stream",
     "text": [
      "\n"
     ]
    }
   ],
   "source": [
    "for x,y in tqdm(dataset):\n",
    "    y_pred = model_pipeline.predict_one(x)      # make a prediction\n",
    "    metric = metric.update(y, y_pred)  # update the metric\n",
    "    model = model_pipeline.learn_one(x, y)    # make the model learn\n",
    "print(f'Accuracy: {metric.get()}')"
   ],
   "metadata": {
    "collapsed": false
   }
  },
  {
   "cell_type": "code",
   "execution_count": null,
   "outputs": [],
   "source": [],
   "metadata": {
    "collapsed": false
   }
  }
 ],
 "metadata": {
  "kernelspec": {
   "display_name": "Python 3",
   "language": "python",
   "name": "python3"
  },
  "language_info": {
   "codemirror_mode": {
    "name": "ipython",
    "version": 2
   },
   "file_extension": ".py",
   "mimetype": "text/x-python",
   "name": "python",
   "nbconvert_exporter": "python",
   "pygments_lexer": "ipython2",
   "version": "2.7.6"
  }
 },
 "nbformat": 4,
 "nbformat_minor": 0
}
