{
 "cells": [
  {
   "cell_type": "code",
   "execution_count": 1,
   "metadata": {
    "collapsed": true,
    "pycharm": {
     "name": "#%%\n"
    }
   },
   "outputs": [],
   "source": [
    "from river import datasets, metrics\n",
    "from river_torch.anomaly.nn_builder import get_fc_encoder, get_fc_decoder\n",
    "from river_torch.base import AutoencodedAnomalyDetector"
   ]
  },
  {
   "cell_type": "code",
   "execution_count": 2,
   "outputs": [
    {
     "name": "stdout",
     "output_type": "stream",
     "text": [
      "ROCAUC: 0.07564538723233938\n"
     ]
    }
   ],
   "source": [
    "encoder_fn = get_fc_encoder\n",
    "decoder_fn = get_fc_decoder\n",
    "dataset = datasets.CreditCard().take(5000)\n",
    "metric = metrics.ROCAUC()\n",
    "\n",
    "model = AutoencodedAnomalyDetector(encoder_fn=encoder_fn,decoder_fn=decoder_fn, lr=0.01)\n",
    "\n",
    "for x,y in dataset:\n",
    "    score = model.score_one(x)\n",
    "    metric.update(y_true=y, y_pred=score)\n",
    "    model.learn_one(x=x)\n",
    "print(f'ROCAUC: {metric.get()}')"
   ],
   "metadata": {
    "collapsed": false,
    "pycharm": {
     "name": "#%%\n"
    }
   }
  },
  {
   "cell_type": "code",
   "execution_count": null,
   "outputs": [],
   "source": [],
   "metadata": {
    "collapsed": false,
    "pycharm": {
     "name": "#%%\n"
    }
   }
  }
 ],
 "metadata": {
  "kernelspec": {
   "display_name": "Python 3",
   "language": "python",
   "name": "python3"
  },
  "language_info": {
   "codemirror_mode": {
    "name": "ipython",
    "version": 2
   },
   "file_extension": ".py",
   "mimetype": "text/x-python",
   "name": "python",
   "nbconvert_exporter": "python",
   "pygments_lexer": "ipython2",
   "version": "2.7.6"
  }
 },
 "nbformat": 4,
 "nbformat_minor": 0
}