{
 "cells": [
  {
   "cell_type": "code",
   "execution_count": 8,
   "outputs": [],
   "source": [
    "from river_torch.anomaly import Autoencoder\n",
    "from river import metrics\n",
    "from river.datasets import CreditCard\n",
    "from torch import nn\n",
    "import math\n",
    "from river.compose import Pipeline\n",
    "from river.preprocessing import MinMaxScaler"
   ],
   "metadata": {
    "collapsed": false,
    "pycharm": {
     "name": "#%%\n"
    }
   }
  },
  {
   "cell_type": "code",
   "execution_count": 9,
   "outputs": [
    {
     "name": "stdout",
     "output_type": "stream",
     "text": [
      "ROCAUC: 0.9064438663197919\n"
     ]
    }
   ],
   "source": [
    "dataset = CreditCard().take(5000)\n",
    "metric = metrics.ROCAUC(n_thresholds=50)\n",
    "\n",
    "def get_fc_ae(n_features):\n",
    "    latent_dim = math.ceil(n_features / 2)\n",
    "    return nn.Sequential(\n",
    "        nn.Linear(n_features, latent_dim),\n",
    "        nn.SELU(),\n",
    "        nn.Linear(latent_dim, n_features),\n",
    "        nn.Sigmoid(),\n",
    "    )\n",
    "ae = Autoencoder(build_fn=get_fc_ae, lr=0.005)\n",
    "scaler = MinMaxScaler()\n",
    "model = Pipeline(scaler, ae)\n",
    "\n",
    "for x, y in dataset:\n",
    "    score = model.score_one(x)\n",
    "    model.learn_one(x=x)\n",
    "    metric.update(y, score)\n",
    "print(f\"ROCAUC: {metric.get()}\")"
   ],
   "metadata": {
    "collapsed": false,
    "pycharm": {
     "name": "#%%\n"
    }
   }
  }
 ],
 "metadata": {
  "kernelspec": {
   "display_name": "Python 3.10.4 ('deepriver')",
   "language": "python",
   "name": "python3"
  },
  "language_info": {
   "codemirror_mode": {
    "name": "ipython",
    "version": 2
   },
   "file_extension": ".py",
   "mimetype": "text/x-python",
   "name": "python",
   "nbconvert_exporter": "python",
   "pygments_lexer": "ipython2",
   "version": "3.10.4"
  },
  "vscode": {
   "interpreter": {
    "hash": "588c5aed37ac83ab820db8800694f2ee474f3b87874329a77c5b9c85c1eac9fa"
   }
  }
 },
 "nbformat": 4,
 "nbformat_minor": 0
}