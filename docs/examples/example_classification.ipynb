{
 "cells": [
  {
   "cell_type": "code",
   "execution_count": 1,
   "metadata": {
    "collapsed": true
   },
   "outputs": [],
   "source": [
    "from river import datasets, metrics\n",
    "from IncrementalTorch.classification import PyTorch2RiverClassifier\n",
    "from IncrementalTorch.classification.nn_builder import build_torch_mlp_classifier\n",
    "import torch"
   ]
  },
  {
   "cell_type": "code",
   "execution_count": 2,
   "outputs": [
    {
     "name": "stdout",
     "output_type": "stream",
     "text": [
      "Accuracy: 0.9964\n"
     ]
    }
   ],
   "source": [
    "build_fn = build_torch_mlp_classifier\n",
    "dataset = datasets.CreditCard().take(5000)\n",
    "metric = metrics.Accuracy()\n",
    "optimizer_fn = torch.optim.Adam\n",
    "\n",
    "model = PyTorch2RiverClassifier(build_fn=build_fn,loss_fn=\"ce\",optimizer_fn=optimizer_fn)\n",
    "\n",
    "for x,y in dataset:\n",
    "    y_pred = model.predict_one(x)\n",
    "    metric.update(y_true=y, y_pred=y_pred)\n",
    "    model.learn_one(x=x,y=y)\n",
    "print(f'Accuracy: {metric.get()}')"
   ],
   "metadata": {
    "collapsed": false,
    "pycharm": {
     "name": "#%%\n"
    }
   }
  },
  {
   "cell_type": "code",
   "execution_count": null,
   "outputs": [],
   "source": [],
   "metadata": {
    "collapsed": false,
    "pycharm": {
     "name": "#%%\n"
    }
   }
  }
 ],
 "metadata": {
  "kernelspec": {
   "display_name": "Python 3",
   "language": "python",
   "name": "python3"
  },
  "language_info": {
   "codemirror_mode": {
    "name": "ipython",
    "version": 2
   },
   "file_extension": ".py",
   "mimetype": "text/x-python",
   "name": "python",
   "nbconvert_exporter": "python",
   "pygments_lexer": "ipython2",
   "version": "2.7.6"
  }
 },
 "nbformat": 4,
 "nbformat_minor": 0
}