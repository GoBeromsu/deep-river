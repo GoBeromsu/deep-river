{
 "cells": [
  {
   "cell_type": "code",
   "execution_count": 4,
   "metadata": {
    "collapsed": true
   },
   "outputs": [],
   "source": [
    "from river import datasets, metrics\n",
    "from IncrementalTorch.regression import PyTorch2RiverRegressor\n",
    "from IncrementalTorch.regression.nn_builder import build_torch_mlp_regressor\n",
    "import torch"
   ]
  },
  {
   "cell_type": "code",
   "execution_count": 15,
   "outputs": [],
   "source": [
    "def build_fn(n_features):\n",
    "    net = torch.nn.Sequential(\n",
    "        torch.nn.Linear(n_features, 3),\n",
    "        torch.nn.ReLU(),\n",
    "        torch.nn.Linear(3, 1),\n",
    "        torch.nn.Sigmoid()\n",
    "    )\n",
    "    return net"
   ],
   "metadata": {
    "collapsed": false,
    "pycharm": {
     "name": "#%%\n"
    }
   }
  },
  {
   "cell_type": "code",
   "execution_count": 16,
   "outputs": [
    {
     "name": "stdout",
     "output_type": "stream",
     "text": [
      "MAE: 120.82258304355463\n"
     ]
    }
   ],
   "source": [
    "dataset = datasets.ChickWeights()\n",
    "metric = metrics.MAE()\n",
    "optimizer_fn = torch.optim.SGD\n",
    "\n",
    "model = PyTorch2RiverRegressor(build_fn=build_fn, loss_fn=\"mse\", optimizer_fn=optimizer_fn)\n",
    "\n",
    "for x, y in dataset:\n",
    "    y_pred = model.predict_one(x)\n",
    "    metric.update(y_true=y, y_pred=y_pred)\n",
    "    model.learn_one(x=x, y=y)\n",
    "print(f'MAE: {metric.get()}')"
   ],
   "metadata": {
    "collapsed": false,
    "pycharm": {
     "name": "#%%\n"
    }
   }
  },
  {
   "cell_type": "code",
   "execution_count": null,
   "outputs": [],
   "source": [],
   "metadata": {
    "collapsed": false,
    "pycharm": {
     "name": "#%%\n"
    }
   }
  }
 ],
 "metadata": {
  "kernelspec": {
   "display_name": "Python 3",
   "language": "python",
   "name": "python3"
  },
  "language_info": {
   "codemirror_mode": {
    "name": "ipython",
    "version": 2
   },
   "file_extension": ".py",
   "mimetype": "text/x-python",
   "name": "python",
   "nbconvert_exporter": "python",
   "pygments_lexer": "ipython2",
   "version": "2.7.6"
  }
 },
 "nbformat": 4,
 "nbformat_minor": 0
}