{
 "cells": [
  {
   "cell_type": "code",
   "execution_count": 1,
   "metadata": {
    "collapsed": true,
    "pycharm": {
     "name": "#%%\n"
    }
   },
   "outputs": [],
   "source": [
    "from river import metrics, compose, preprocessing\n",
    "from river.datasets import Bikes\n",
    "from river_torch.regression import Regressor\n",
    "import torch\n",
    "from itertools import islice\n",
    "import pandas as pd"
   ]
  },
  {
   "cell_type": "code",
   "execution_count": 2,
   "outputs": [],
   "source": [
    "def build_fn(n_features):\n",
    "    net = torch.nn.Sequential(\n",
    "        torch.nn.Linear(n_features, 3),\n",
    "        torch.nn.ReLU(),\n",
    "        torch.nn.Linear(3, 1),\n",
    "        torch.nn.Sigmoid()\n",
    "    )\n",
    "    return net\n",
    "\n",
    "def batcher(iterable, batch_size):\n",
    "    iterator = iter(iterable)\n",
    "    while batch := list(islice(iterator, batch_size)):\n",
    "        yield batch"
   ],
   "metadata": {
    "collapsed": false,
    "pycharm": {
     "name": "#%%\n"
    }
   }
  },
  {
   "cell_type": "code",
   "execution_count": 4,
   "outputs": [
    {
     "ename": "TypeError",
     "evalue": "predict_many() got an unexpected keyword argument 'x'",
     "output_type": "error",
     "traceback": [
      "\u001B[1;31m---------------------------------------------------------------------------\u001B[0m",
      "\u001B[1;31mTypeError\u001B[0m                                 Traceback (most recent call last)",
      "Input \u001B[1;32mIn [4]\u001B[0m, in \u001B[0;36m<cell line: 9>\u001B[1;34m()\u001B[0m\n\u001B[0;32m     10\u001B[0m x,y \u001B[38;5;241m=\u001B[39m \u001B[38;5;28mzip\u001B[39m(\u001B[38;5;241m*\u001B[39mbatch)\n\u001B[0;32m     11\u001B[0m x \u001B[38;5;241m=\u001B[39m pd\u001B[38;5;241m.\u001B[39mDataFrame(x)\n\u001B[1;32m---> 12\u001B[0m y_pred \u001B[38;5;241m=\u001B[39m \u001B[43mmodel_pipeline\u001B[49m\u001B[38;5;241;43m.\u001B[39;49m\u001B[43mpredict_many\u001B[49m\u001B[43m(\u001B[49m\u001B[43mx\u001B[49m\u001B[38;5;241;43m=\u001B[39;49m\u001B[43mx\u001B[49m\u001B[43m)\u001B[49m\n\u001B[0;32m     13\u001B[0m metric\u001B[38;5;241m.\u001B[39mupdate(y_true\u001B[38;5;241m=\u001B[39my, y_pred\u001B[38;5;241m=\u001B[39my_pred)\n\u001B[0;32m     14\u001B[0m model_pipeline\u001B[38;5;241m.\u001B[39mlearn_one(x\u001B[38;5;241m=\u001B[39mx, y\u001B[38;5;241m=\u001B[39my)\n",
      "\u001B[1;31mTypeError\u001B[0m: predict_many() got an unexpected keyword argument 'x'"
     ]
    }
   ],
   "source": [
    "dataset = Bikes()\n",
    "metric = metrics.MAE()\n",
    "optimizer_fn = torch.optim.SGD\n",
    "\n",
    "model_pipeline = compose.Select('clouds', 'humidity', 'pressure', 'temperature', 'wind')\n",
    "model_pipeline |= preprocessing.StandardScaler()\n",
    "model_pipeline |= Regressor(build_fn=build_fn, loss_fn=\"mse\", optimizer_fn=optimizer_fn)\n",
    "\n",
    "for batch in batcher(dataset.take(5000),5):\n",
    "    x,y = zip(*batch)\n",
    "    x = pd.DataFrame(x)\n",
    "    y_pred = model_pipeline.predict_many(x=x)\n",
    "    metric.update(y_true=y, y_pred=y_pred)\n",
    "    model_pipeline.learn_many(x=x, y=y)\n",
    "print(f'MAE: {metric.get()}')\n"
   ],
   "metadata": {
    "collapsed": false,
    "pycharm": {
     "name": "#%%\n"
    }
   }
  },
  {
   "cell_type": "code",
   "execution_count": null,
   "outputs": [],
   "source": [],
   "metadata": {
    "collapsed": false,
    "pycharm": {
     "name": "#%%\n"
    }
   }
  }
 ],
 "metadata": {
  "kernelspec": {
   "display_name": "Python 3",
   "language": "python",
   "name": "python3"
  },
  "language_info": {
   "codemirror_mode": {
    "name": "ipython",
    "version": 2
   },
   "file_extension": ".py",
   "mimetype": "text/x-python",
   "name": "python",
   "nbconvert_exporter": "python",
   "pygments_lexer": "ipython2",
   "version": "2.7.6"
  }
 },
 "nbformat": 4,
 "nbformat_minor": 0
}