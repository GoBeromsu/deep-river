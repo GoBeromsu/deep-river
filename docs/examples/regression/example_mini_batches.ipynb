{
 "cells": [
  {
   "cell_type": "code",
   "execution_count": 1,
   "metadata": {
    "collapsed": true,
    "pycharm": {
     "name": "#%%\n"
    }
   },
   "outputs": [],
   "source": [
    "from river import metrics, compose, preprocessing\n",
    "from river.datasets import Bikes\n",
    "from river_torch.regression import Regressor\n",
    "import torch\n",
    "from itertools import islice\n",
    "import pandas as pd"
   ]
  },
  {
   "cell_type": "code",
   "execution_count": 2,
   "outputs": [],
   "source": [
    "def build_fn(n_features):\n",
    "    net = torch.nn.Sequential(\n",
    "        torch.nn.Linear(n_features, 3),\n",
    "        torch.nn.ReLU(),\n",
    "        torch.nn.Linear(3, 1),\n",
    "        torch.nn.Sigmoid()\n",
    "    )\n",
    "    return net\n",
    "\n",
    "def batcher(iterable, batch_size):\n",
    "    iterator = iter(iterable)\n",
    "    while batch := list(islice(iterator, batch_size)):\n",
    "        yield batch"
   ],
   "metadata": {
    "collapsed": false,
    "pycharm": {
     "name": "#%%\n"
    }
   }
  },
  {
   "cell_type": "code",
   "execution_count": 5,
   "outputs": [
    {
     "name": "stdout",
     "output_type": "stream",
     "text": [
      "MAE: 6.927137108176953\n"
     ]
    }
   ],
   "source": [
    "dataset = Bikes()\n",
    "metric = metrics.MAE()\n",
    "optimizer_fn = torch.optim.SGD\n",
    "\n",
    "model_pipeline = compose.Select('clouds', 'humidity', 'pressure', 'temperature', 'wind')\n",
    "model_pipeline |= preprocessing.StandardScaler()\n",
    "model_pipeline |= Regressor(build_fn=build_fn, loss_fn=\"mse\", optimizer_fn=optimizer_fn)\n",
    "\n",
    "for batch in batcher(dataset.take(5000),5):\n",
    "    x,y = zip(*batch)\n",
    "    x = pd.DataFrame(x)\n",
    "    y_pred = model_pipeline.predict_many(X=x)\n",
    "    #metric.update(y_true=list(y), y_pred=y_pred)\n",
    "    _ = [metric.update(y_i, y_pred[idx]) for idx, y_i in enumerate(list(y))] # update the meetric\n",
    "    model_pipeline.learn_many(X=x, y=y)\n",
    "print(f'MAE: {metric.get()}')"
   ],
   "metadata": {
    "collapsed": false,
    "pycharm": {
     "name": "#%%\n"
    }
   }
  },
  {
   "cell_type": "code",
   "execution_count": null,
   "outputs": [],
   "source": [],
   "metadata": {
    "collapsed": false,
    "pycharm": {
     "name": "#%%\n"
    }
   }
  }
 ],
 "metadata": {
  "kernelspec": {
   "display_name": "Python 3",
   "language": "python",
   "name": "python3"
  },
  "language_info": {
   "codemirror_mode": {
    "name": "ipython",
    "version": 2
   },
   "file_extension": ".py",
   "mimetype": "text/x-python",
   "name": "python",
   "nbconvert_exporter": "python",
   "pygments_lexer": "ipython2",
   "version": "2.7.6"
  }
 },
 "nbformat": 4,
 "nbformat_minor": 0
}